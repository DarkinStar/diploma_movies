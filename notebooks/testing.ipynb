{
 "cells": [
  {
   "cell_type": "code",
   "execution_count": null,
   "id": "6a6027e9",
   "metadata": {},
   "outputs": [],
   "source": [
    "import pandas as pd\n",
    "\n",
    "# Load your saved checkpoint\n",
    "df = pd.read_csv('checkpoint_before_stop.csv')\n",
    "\n",
    "# Count non-empty Russian translations\n",
    "translated_count = df['plot_ru'].apply(lambda x: isinstance(x, str) and x.strip() != '').sum()\n",
    "\n",
    "# Total number of rows\n",
    "total_count = len(df)\n",
    "\n",
    "# Calculate % done\n",
    "percent_done = (translated_count / total_count) * 100\n",
    "\n",
    "print(f\"✅ Translated {translated_count}/{total_count} plots — {percent_done:.2f}% done.\")"
   ]
  }
 ],
 "metadata": {
  "language_info": {
   "name": "python"
  }
 },
 "nbformat": 4,
 "nbformat_minor": 5
}
